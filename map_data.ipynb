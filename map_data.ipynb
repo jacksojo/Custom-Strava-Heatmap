{
 "cells": [
  {
   "cell_type": "code",
   "execution_count": null,
   "metadata": {},
   "outputs": [],
   "source": [
    "\n",
    "import pandas as pd\n",
    "import colorcet as cc\n",
    "import polyline\n",
    "import math\n",
    "import numpy as np\n",
    "colour_palette = cc.CET_C6s\n",
    "\n",
    "from bokeh.plotting import figure, show\n",
    "from bokeh.models import ColumnDataSource, TextInput, Tooltip\n",
    "from bokeh.io import output_notebook, reset_output\n",
    "\n",
    "output_notebook()\n",
    "\n",
    "### making data a bit easier to see\n",
    "pd.set_option('display.max_columns', 500)\n",
    "pd.set_option('display.max_rows', 500)\n",
    "\n",
    "### should be outside the repo'\n",
    "data_location = r'/Users/jj/code/strava_data/'"
   ]
  },
  {
   "cell_type": "code",
   "execution_count": null,
   "metadata": {},
   "outputs": [],
   "source": [
    "### will return a list of colours of n length from the colour_palette\n",
    "def get_colours(n):\n",
    "    distance = int(len(colour_palette) / n)\n",
    "    return [x for i, x in enumerate(colour_palette) if i % distance == 0]\n",
    "\n",
    "def create_colour_map(s):\n",
    "    unique = np.sort(s.unique())\n",
    "    colours = get_colours(len(unique))\n",
    "    return dict(zip(unique, colours))"
   ]
  },
  {
   "cell_type": "code",
   "execution_count": null,
   "metadata": {},
   "outputs": [],
   "source": [
    "raw = pd.read_csv(data_location+'all_activities_cleaned.csv', index_col=0, parse_dates=True)\n",
    "raw = raw.apply(lambda x: pd.to_datetime(x) if 'date' in x.name else x)\n",
    "raw"
   ]
  },
  {
   "cell_type": "code",
   "execution_count": null,
   "metadata": {},
   "outputs": [],
   "source": [
    "def geographic_to_web_mercator(x_lon, y_lat):     \n",
    "    if abs(x_lon) <= 180 and abs(y_lat) < 90:          \n",
    "        num = x_lon * 0.017453292519943295         \n",
    "        x = 6378137.0 * num         \n",
    "        a = y_lat * 0.017453292519943295          \n",
    "        x_mercator = x         \n",
    "        y_mercator = 3189068.5 * math.log((1.0 + math.sin(a)) / (1.0 - math.sin(a)))         \n",
    "        return x_mercator, y_mercator      \n",
    "    else:         \n",
    "        print('Invalid coordinate values for conversion')\n",
    "\n",
    "map_data = raw.copy()\n",
    "map_data = map_data.dropna(subset=['map_summary_polyline'])\n",
    "map_data['polyline'] = map_data['map_summary_polyline'].apply(polyline.decode)\n",
    "map_data['mercator'] = map_data['polyline'].apply(lambda x: [geographic_to_web_mercator(y[1], y[0]) for y in x])\n",
    "\n",
    "def custom_activity_type(a):\n",
    "    if a['bike_name'] in ['Transition Smuggler', 'Canyon Spectral', 'Fat Bike']: return 'Mountain Bike Ride'\n",
    "    elif a['bike_name'] in ['Avanti Giro 2', 'Cervelo Aspero']: return 'Road/Gravel Ride'\n",
    "    elif a['type'] == 'Bike': return 'Ride Unknown'\n",
    "    elif a['type'] == 'Run': return 'Run'\n",
    "    elif a['type'] in ['Walk', 'Hike']: return 'Walk'\n",
    "    else: return a['type']\n",
    "\n",
    "map_data['activity_group'] = map_data.apply(custom_activity_type, axis=1)\n",
    "map_data\n"
   ]
  },
  {
   "cell_type": "code",
   "execution_count": null,
   "metadata": {},
   "outputs": [],
   "source": []
  },
  {
   "cell_type": "code",
   "execution_count": null,
   "metadata": {},
   "outputs": [],
   "source": [
    "p = figure(width=800, height=800, x_axis_type=\"mercator\", y_axis_type=\"mercator\")\n",
    "p.add_tile(\"CartoDB Positron\")\n",
    "for line in map_data[['mercator', 'sport_type', 'sport_type_colour']].values:\n",
    "    x = [a[0] for a in line[0]]\n",
    "    y = [a[1] for a in line[0]]\n",
    "\n",
    "    p.line(x, y, color=line[2])\n",
    "\n",
    "show(p)"
   ]
  },
  {
   "cell_type": "code",
   "execution_count": null,
   "metadata": {},
   "outputs": [],
   "source": [
    "def categorical_map(cat_col):\n",
    "    df = map_data.dropna(subset=[cat_col])[['mercator', cat_col]]\n",
    "    df['colour'] = df[cat_col].map(create_colour_map(df[cat_col]))\n",
    "\n",
    "    p = figure(width=800, height=800, x_axis_type=\"mercator\", y_axis_type=\"mercator\")\n",
    "    p.add_tile(\"CartoDB.Positron\")\n",
    "    for activity in df.values:\n",
    "        x = [a[0] for a in activity[0]]\n",
    "        y = [a[1] for a in activity[0]]\n",
    "        p.line(x, y, line_width=2, color=activity[2], line_alpha=.5, legend_label=activity[1])\n",
    "    \n",
    "    p.legend.click_policy=\"hide\"\n",
    "\n",
    "    show(p)\n",
    "\n",
    "categorical_map('activity_group')"
   ]
  },
  {
   "cell_type": "code",
   "execution_count": null,
   "metadata": {},
   "outputs": [],
   "source": [
    "import xyzservices.providers as xyz\n",
    "xyz"
   ]
  },
  {
   "cell_type": "code",
   "execution_count": null,
   "metadata": {},
   "outputs": [],
   "source": []
  }
 ],
 "metadata": {
  "kernelspec": {
   "display_name": "Python 3",
   "language": "python",
   "name": "python3"
  },
  "language_info": {
   "codemirror_mode": {
    "name": "ipython",
    "version": 3
   },
   "file_extension": ".py",
   "mimetype": "text/x-python",
   "name": "python",
   "nbconvert_exporter": "python",
   "pygments_lexer": "ipython3",
   "version": "3.9.6"
  },
  "orig_nbformat": 4
 },
 "nbformat": 4,
 "nbformat_minor": 2
}
