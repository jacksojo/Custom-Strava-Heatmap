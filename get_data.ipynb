{
 "cells": [
  {
   "cell_type": "code",
   "execution_count": 2,
   "metadata": {},
   "outputs": [],
   "source": [
    "import json\n",
    "import requests\n",
    "import time\n",
    "\n",
    "### should be outside the repo\n",
    "cred_location = r'/Users/jj/code/strava_creds/'"
   ]
  },
  {
   "cell_type": "code",
   "execution_count": 7,
   "metadata": {},
   "outputs": [
    {
     "name": "stdout",
     "output_type": "stream",
     "text": [
      "Client Tokens Found\n"
     ]
    }
   ],
   "source": [
    "def get_client_tokens():\n",
    "    print('please go here https://www.strava.com/settings/api, and copy the token information as prompted')\n",
    "    client_id = input('please enter your client id')\n",
    "    client_secret = input('please enter your client secret')\n",
    "    redirect_uri = input('please enter a redirect uri (use http://localhost/ if unsure)')\n",
    "    client_tokens = {\n",
    "        'client_id':str(client_id),\n",
    "        'client_secret':str(client_secret),\n",
    "        'redirect_uri':str(redirect_uri)\n",
    "    }\n",
    "\n",
    "    with open(cred_location+'client_tokens.json', 'w') as outfile:\n",
    "        json.dump(client_tokens, outfile, indent=4)\n",
    "\n",
    "    print(\"client tokens saved\")\n",
    "    return None\n",
    "\n",
    "### This will just check if the client tokens exist, not if they are valid.\n",
    "### client token, client secret, and redirect_uri should all be held in a json file called client_tokens.json\n",
    "def check_client_tokens():\n",
    "    try:\n",
    "        client_tokens = json.load(open(cred_location+'client_tokens.json'))\n",
    "        if {'client_id', 'client_secret', 'redirect_uri'} == set(client_tokens.keys()):\n",
    "            print('Client Tokens Found')\n",
    "            return True\n",
    "        else:\n",
    "            return False\n",
    "    except:\n",
    "        return False\n",
    "\n",
    "if check_client_tokens() == False:\n",
    "    get_client_tokens()"
   ]
  },
  {
   "cell_type": "code",
   "execution_count": 8,
   "metadata": {},
   "outputs": [
    {
     "name": "stdout",
     "output_type": "stream",
     "text": [
      "359.85 minutes until token expires\n",
      "Unexpired Token Found\n"
     ]
    }
   ],
   "source": [
    "def authorize():\n",
    "\n",
    "      client_tokens = json.load(open(cred_location+'client_tokens.json'))\n",
    "\n",
    "      # Authorization URL\n",
    "      request_url = f'http://www.strava.com/oauth/authorize?client_id={client_tokens[\"client_id\"]}' \\\n",
    "                        f'&response_type=code&redirect_uri={client_tokens[\"redirect_uri\"]}' \\\n",
    "                        f'&approval_prompt=force' \\\n",
    "                        f'&scope=profile:read_all,activity:read_all'\n",
    "\n",
    "      # User prompt showing the Authorization URL\n",
    "      # and asks for the code\n",
    "      print('Click here:', request_url)\n",
    "      print('Please authorize the app and copy&paste below the generated code!')\n",
    "      print('P.S: you can find the code in the URL')\n",
    "      code = input('Insert the code from the url: ')\n",
    "\n",
    "      # Get the access token\n",
    "      token = requests.post(url='https://www.strava.com/api/v3/oauth/token',\n",
    "                        data={'client_id': client_tokens[\"client_id\"],\n",
    "                              'client_secret': client_tokens[\"client_secret\"],\n",
    "                              'code': code,\n",
    "                              'grant_type': 'authorization_code'})\n",
    "\n",
    "      access_tokens = token.json()\n",
    "      \n",
    "\n",
    "      with open(cred_location+'access_tokens.json', 'w') as outfile:\n",
    "            json.dump(access_tokens, outfile, indent=4)\n",
    "      print('Authorisation Complete')\n",
    "\n",
    "\n",
    "def check_authorization():\n",
    "      try:\n",
    "            tokens = json.load(open(cred_location+'access_tokens.json'))\n",
    "            if time.time() < int(tokens['expires_at']) and 'access_token' in tokens.keys():\n",
    "                  print((int(tokens['expires_at']) - int(time.time())) / 60, 'minutes until token expires')\n",
    "                  print('Unexpired Token Found')\n",
    "                  return True\n",
    "            else:\n",
    "                  return False\n",
    "      except:\n",
    "            return False\n",
    "\n",
    "if check_authorization() == False:\n",
    "      authorize()"
   ]
  },
  {
   "cell_type": "code",
   "execution_count": null,
   "metadata": {},
   "outputs": [],
   "source": []
  },
  {
   "cell_type": "code",
   "execution_count": null,
   "metadata": {},
   "outputs": [],
   "source": []
  },
  {
   "cell_type": "code",
   "execution_count": 37,
   "metadata": {},
   "outputs": [],
   "source": []
  },
  {
   "cell_type": "code",
   "execution_count": null,
   "metadata": {},
   "outputs": [],
   "source": []
  }
 ],
 "metadata": {
  "kernelspec": {
   "display_name": "Python 3",
   "language": "python",
   "name": "python3"
  },
  "language_info": {
   "codemirror_mode": {
    "name": "ipython",
    "version": 3
   },
   "file_extension": ".py",
   "mimetype": "text/x-python",
   "name": "python",
   "nbconvert_exporter": "python",
   "pygments_lexer": "ipython3",
   "version": "3.9.6"
  },
  "orig_nbformat": 4
 },
 "nbformat": 4,
 "nbformat_minor": 2
}
