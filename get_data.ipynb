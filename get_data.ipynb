{
 "cells": [
  {
   "cell_type": "code",
   "execution_count": null,
   "metadata": {},
   "outputs": [],
   "source": [
    "import json\n",
    "import requests\n",
    "import time\n",
    "\n",
    "### should be outside the repo\n",
    "cred_location = r'/Users/jj/code/strava_creds/'"
   ]
  },
  {
   "cell_type": "code",
   "execution_count": null,
   "metadata": {},
   "outputs": [],
   "source": [
    "def get_client_tokens():\n",
    "    print('please go here https://www.strava.com/settings/api, and copy the token information as prompted')\n",
    "    client_id = input('please enter your client id')\n",
    "    client_secret = input('please enter your client secret')\n",
    "    refresh_token = input('please enter your refresh token')\n",
    "\n",
    "    client_tokens = {\n",
    "        'client_id':str(client_id),\n",
    "        'client_secret':str(client_secret),\n",
    "        'refresh_token':str(refresh_token)\n",
    "    }\n",
    "\n",
    "    with open(cred_location+'client_tokens.json', 'w') as outfile:\n",
    "        json.dump(client_tokens, outfile, indent=4)\n",
    "\n",
    "    print(\"client tokens saved\")\n",
    "    return None\n",
    "\n",
    "### This will just check if the client tokens exist, not if they are valid.\n",
    "### client token, client secret, and refresh token should all be held in a json file called client_tokens.json\n",
    "def check_client_tokens():\n",
    "    try:\n",
    "        client_tokens = json.load(open(cred_location+'client_tokens.json'))\n",
    "        if {'client_id', 'client_secret', 'refresh_token'} == set(client_tokens.keys()):\n",
    "            print('Client Tokens Found')\n",
    "            return True\n",
    "        else:\n",
    "            return False\n",
    "    except:\n",
    "        return False\n",
    "\n",
    "if check_client_tokens() == False:\n",
    "    get_client_tokens()"
   ]
  },
  {
   "cell_type": "code",
   "execution_count": null,
   "metadata": {},
   "outputs": [],
   "source": [
    "def authorize():\n",
    "\n",
    "      client_tokens = json.load(open(cred_location+'client_tokens.json'))\n",
    "\n",
    "      auth_url = \"https://www.strava.com/oauth/token\"\n",
    "\n",
    "      ### add some more configuration\n",
    "      payload = {**client_tokens, \n",
    "                 **{\n",
    "                        'grant_type':'refresh_token',\n",
    "                        'f':'json'\n",
    "                  }\n",
    "            }\n",
    "\n",
    "      print(payload)\n",
    "\n",
    "      print(\"Requesting Token...\\n\")\n",
    "      res = requests.post(auth_url, data=payload, verify=False)\n",
    "      access_token = res.json()\n",
    "\n",
    "      if res.status_code < 300:\n",
    "            with open(cred_location+'access_tokens.json', 'w') as outfile:\n",
    "                  json.dump(access_token, outfile, indent=4)\n",
    "            print('Authorisation Complete')\n",
    "\n",
    "      else:\n",
    "            print('Authorisation Error')\n",
    "            print(res.json())\n",
    "\n",
    "\n",
    "def check_authorization():\n",
    "      try:\n",
    "            tokens = json.load(open(cred_location+'access_tokens.json'))\n",
    "            if time.time() < int(tokens['expires_at']) and 'access_token' in tokens.keys():\n",
    "                  print((int(tokens['expires_at']) - int(time.time())) / 60, 'minutes until token expires')\n",
    "                  print('Unexpired Token Found')\n",
    "                  return True\n",
    "            else:\n",
    "                  return False\n",
    "      except:\n",
    "            return False\n",
    "\n",
    "if check_authorization() == False:\n",
    "      authorize()"
   ]
  },
  {
   "cell_type": "code",
   "execution_count": null,
   "metadata": {},
   "outputs": [],
   "source": []
  },
  {
   "cell_type": "code",
   "execution_count": null,
   "metadata": {},
   "outputs": [],
   "source": []
  },
  {
   "cell_type": "code",
   "execution_count": null,
   "metadata": {},
   "outputs": [],
   "source": []
  },
  {
   "cell_type": "code",
   "execution_count": null,
   "metadata": {},
   "outputs": [],
   "source": []
  }
 ],
 "metadata": {
  "kernelspec": {
   "display_name": "Python 3",
   "language": "python",
   "name": "python3"
  },
  "language_info": {
   "codemirror_mode": {
    "name": "ipython",
    "version": 3
   },
   "file_extension": ".py",
   "mimetype": "text/x-python",
   "name": "python",
   "nbconvert_exporter": "python",
   "pygments_lexer": "ipython3",
   "version": "3.9.6"
  },
  "orig_nbformat": 4
 },
 "nbformat": 4,
 "nbformat_minor": 2
}
