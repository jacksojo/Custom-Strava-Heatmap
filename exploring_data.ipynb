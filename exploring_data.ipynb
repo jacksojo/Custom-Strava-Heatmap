{
 "cells": [
  {
   "cell_type": "code",
   "execution_count": null,
   "metadata": {},
   "outputs": [],
   "source": [
    "import pandas as pd\n",
    "import os\n",
    "import json\n",
    "import colorcet as cc\n",
    "colour_palette = cc.CET_R3\n",
    "\n",
    "from bokeh.plotting import figure, show\n",
    "from bokeh.models import ColumnDataSource\n",
    "from bokeh.io import output_notebook, reset_output\n",
    "\n",
    "output_notebook()\n",
    "\n",
    "### making data a bit easier to see\n",
    "pd.set_option('display.max_columns', 500)\n",
    "pd.set_option('display.max_rows', 500)\n",
    "\n",
    "### should be outside the repo'\n",
    "data_location = r'/Users/jj/code/strava_data/'"
   ]
  },
  {
   "cell_type": "code",
   "execution_count": null,
   "metadata": {},
   "outputs": [],
   "source": [
    "raw = pd.read_csv(data_location+'all_activities_cleaned.csv', index_col=0, parse_dates=True)\n",
    "raw = raw.apply(lambda x: pd.to_datetime(x) if 'date' in x.name else x)\n",
    "raw"
   ]
  },
  {
   "cell_type": "code",
   "execution_count": null,
   "metadata": {},
   "outputs": [],
   "source": [
    "### will return a list of colours of n length from the colour_palette\n",
    "def get_colours(n):\n",
    "    distance = int(len(colour_palette) / n)\n",
    "    return [x for i, x in enumerate(colour_palette) if i % distance == 0]\n",
    "\n",
    "### will return a df whith cats and aggregated metrics\n",
    "def aggregate(df, cat_columns, met_column=None, aggregation=None, order_by=None):\n",
    "\n",
    "    raw_data = df[cat_columns]\n",
    "    if type(cat_columns) == str:\n",
    "        if not met_column and not aggregation:\n",
    "            grouped = raw_data.value_counts().reset_index()\n",
    "            grouped = grouped.rename(columns={'index':cat_columns, cat_columns:'count'})\n",
    "\n",
    "        elif met_column and aggregation:\n",
    "            raw_data = pd.concat([raw_data, df[met_column]], axis=1)\n",
    "            grouped = raw_data.groupby(cat_columns).agg(aggregation).reset_index()\n",
    "        \n",
    "        if order_by: grouped = grouped.sort_values(order_by, ascending=False)\n",
    "        grouped = grouped.to_dict('list')\n",
    "\n",
    "    elif type(cat_columns) == list:\n",
    "        if not met_column and not aggregation:\n",
    "            grouped = raw_data.value_counts().unstack(fill_value=0)\n",
    "\n",
    "        elif met_column and aggregation:\n",
    "            raw_data = pd.concat([raw_data, df[met_column]], axis=1)\n",
    "            grouped = raw_data.groupby(cat_columns).agg(aggregation).unstack(fill_value=0)\n",
    "            grouped.columns = grouped.columns.get_level_values(1)\n",
    "        if order_by: grouped = grouped.sort_values(order_by, ascending=False)\n",
    "        grouped = {\n",
    "            **{grouped.index.name:grouped.index.to_list()}, \n",
    "            **{cat_columns[1]:grouped.to_dict('list')}\n",
    "        }\n",
    "\n",
    "    else:\n",
    "        return ('invalid_input')\n",
    "\n",
    "    grouped['metadata'] = {'cat_columns':cat_columns, 'met_columns':met_column, 'aggregation':aggregation, 'order_by':order_by}\n",
    "\n",
    "    return grouped\n",
    "\n",
    "def custom_plot(x=None, title=None):\n",
    "    p = figure(x_range=x, background_fill_color='whitesmoke', height=300, title=title)\n",
    "    p.y_range.start = 0\n",
    "    p.xgrid.grid_line_color=None\n",
    "    p.xaxis.major_label_orientation = .8\n",
    "    p.yaxis.minor_tick_line_color = None\n",
    "    return p\n",
    "\n",
    "###  case 1\n",
    "# {x:[a, b, c], y:[count_a, count_b, count_c]}\n",
    "# input = [a, a, b, c]\n",
    "print('case1')\n",
    "display(aggregate(raw, 'bike_name'))\n",
    "\n",
    "### case 2\n",
    "# {x:[a, b, c], y:[agg_a, agg_b, agg_c]}\n",
    "# inputs = [a, a, b, c], metric, aggregation\n",
    "print('case2')\n",
    "display(aggregate(raw, 'bike_name', 'kudos_count', 'sum'))\n",
    "\n",
    "### case 3\n",
    "# {x:[a, b, c], z1: [count_a_z1, count_b_z1, count_c_z1], z2:[count_a_z2, count_b_z2, count_c_z2]}\n",
    "# inputs = [[a, a, b, c], [z1, z2, z2, z3]]\n",
    "print('case3')\n",
    "display(aggregate(raw, ['bike_name', 'year']))\n",
    "\n",
    "### case 4\n",
    "# {x:[a, b, c], z1: [agg_a_z1, agg_b_z1, agg_c_z1], z2:[agg_a_z2, agg_b_z2, agg_c_z2]}\n",
    "# inputs = [[a, a, b, c], [z1, z2, z2, z3]], metric_aggregation\n",
    "print('case4')\n",
    "display(aggregate(raw, ['bike_name', 'year'], 'kudos_count', 'sum'))\n",
    "\n"
   ]
  },
  {
   "cell_type": "code",
   "execution_count": null,
   "metadata": {},
   "outputs": [],
   "source": [
    "def bar_chart(x, y, t=None):\n",
    "    c = get_colours(len(x)-1)\n",
    "    p = custom_plot(x=x, title=t)\n",
    "    p.vbar(x=x, top=y, width=.9, fill_color=c, line_color='white', line_width=3, line_join='round')\n",
    "    show(p)\n",
    "\n",
    "data = aggregate(raw, cat_columns='type')\n",
    "title = 'Count of Activities by Type'\n",
    "bar_chart(data['type'], data['count'], title)\n"
   ]
  },
  {
   "cell_type": "code",
   "execution_count": null,
   "metadata": {},
   "outputs": [],
   "source": [
    "data = aggregate(raw, cat_columns='bike_name', met_column='distance', aggregation='sum', order_by='distance')\n",
    "title = 'Distance by Bike'\n",
    "bar_chart(data['bike_name'], data['distance'], title)"
   ]
  },
  {
   "cell_type": "code",
   "execution_count": null,
   "metadata": {},
   "outputs": [],
   "source": [
    "def stacked_bar_chart(x, ys, t):\n",
    "\n",
    "    c = get_colours(len(ys.keys()))\n",
    "    p = custom_plot(x=x, title=t)\n",
    "\n",
    "    ### iterate through second cat column\n",
    "    bottom = [0 for z in x]\n",
    "    for i, (k, v) in enumerate(ys.items()):\n",
    "        top = [x+y for x, y in zip(bottom, v)]\n",
    "        p.vbar(x=x, bottom=bottom, top=top, width=.9, color=c[i], line_color='white', line_width=1, line_join='round', legend_label=str(k))\n",
    "        bottom = top\n",
    "\n",
    "    p.legend.location = 'top_left'\n",
    "\n",
    "    show(p)\n",
    "\n",
    "data = aggregate(raw, cat_columns=['year', 'bike_name'])\n",
    "title = 'Activities by Bike and Year'\n",
    "stacked_bar_chart([str(z) for z in data['year']], data['bike_name'], t=title)"
   ]
  },
  {
   "cell_type": "code",
   "execution_count": null,
   "metadata": {},
   "outputs": [],
   "source": [
    "data = aggregate(raw, ['month', 'bike_name'], 'distance', 'sum')\n",
    "title = 'Distance by Bike and Month'\n",
    "stacked_bar_chart(data['month'], data['bike_name'], title)"
   ]
  },
  {
   "cell_type": "code",
   "execution_count": null,
   "metadata": {},
   "outputs": [],
   "source": []
  }
 ],
 "metadata": {
  "kernelspec": {
   "display_name": "Python 3",
   "language": "python",
   "name": "python3"
  },
  "language_info": {
   "codemirror_mode": {
    "name": "ipython",
    "version": 3
   },
   "file_extension": ".py",
   "mimetype": "text/x-python",
   "name": "python",
   "nbconvert_exporter": "python",
   "pygments_lexer": "ipython3",
   "version": "3.9.6"
  },
  "orig_nbformat": 4
 },
 "nbformat": 4,
 "nbformat_minor": 2
}
