{
 "cells": [
  {
   "cell_type": "code",
   "execution_count": null,
   "metadata": {},
   "outputs": [],
   "source": [
    "import pandas as pd\n",
    "import geopandas as gpd\n",
    "import os\n",
    "import json\n",
    "import colorcet as cc\n",
    "colour_palette = cc.CET_R3\n",
    "\n",
    "from bokeh.plotting import figure, show\n",
    "from bokeh.models import ColumnDataSource\n",
    "from bokeh.io import output_notebook, reset_output\n",
    "\n",
    "output_notebook()\n",
    "\n",
    "### making data a bit easier to see\n",
    "pd.set_option('display.max_columns', 500)\n",
    "pd.set_option('display.max_rows', 500)\n",
    "\n",
    "### should be outside the repo'\n",
    "data_location = r'/Users/jj/code/strava_data/'"
   ]
  },
  {
   "cell_type": "code",
   "execution_count": null,
   "metadata": {},
   "outputs": [],
   "source": [
    "### will return a list of colours of n length from the colour_palette\n",
    "def get_colours(n):\n",
    "    distance = int(len(colour_palette) / n)\n",
    "    return [x for i, x in enumerate(colour_palette) if i % distance == 0]\n",
    "\n",
    "def aggregate(df, cat_columns=[], met_columns=[], aggregations=[]):\n",
    "    raw_data = df[cat_columns+met_columns]\n",
    "    grouped = raw_data.groupby(cat_columns).agg({m:aggregations for m in met_columns}).reset_index()\n",
    "    grouped.columns = grouped.columns.map(lambda x: '_'.join(a for a in x if len(a)>0))\n",
    "    print(grouped)\n",
    "\n",
    "aggregate(raw, cat_columns=['type'], met_columns=['moving_time (seconds)', 'kudos_count'], aggregations=['max', 'sum'])"
   ]
  },
  {
   "cell_type": "code",
   "execution_count": null,
   "metadata": {},
   "outputs": [],
   "source": [
    "raw = pd.read_csv(data_location+'all_activities_cleaned.csv', index_col=0)\n",
    "raw"
   ]
  },
  {
   "cell_type": "code",
   "execution_count": null,
   "metadata": {},
   "outputs": [],
   "source": [
    "if os.path.isfile(data_location+'athlete_info_jj.json'):\n",
    "    athlete_info = json.load(open(data_location+'athlete_info_jj.json'))\n",
    "    bikes = {x['id']: x['name'] for x in athlete_info['bikes']}\n",
    "    raw['gear_id'] = raw['gear_id'].map(bikes)\n",
    "    "
   ]
  },
  {
   "cell_type": "code",
   "execution_count": null,
   "metadata": {},
   "outputs": [],
   "source": [
    "def bar_chart_count(s):\n",
    "    agged = s.value_counts()\n",
    "    x = agged.index.to_list()\n",
    "    y = agged.to_list()\n",
    "    c = get_colours(len(x)-1)\n",
    "    title = s.name[0].upper()+s.name[1:]+'s of Activities'\n",
    "\n",
    "    p = figure(x_range = x, title=title, background_fill_color='whitesmoke', height=300)\n",
    "    p.vbar(x=x, top=y, width=.9, fill_color=c, line_color='white', line_width=3, line_join='round')\n",
    "\n",
    "    p.y_range.start = 0\n",
    "    p.y_range.end = max(y) * 1.05\n",
    "    p.xgrid.grid_line_color=None\n",
    "    p.xaxis.major_label_orientation = .8\n",
    "    p.yaxis.minor_tick_line_color = None\n",
    "\n",
    "    show(p)\n",
    "\n",
    "bar_chart_count(raw['type'])\n"
   ]
  },
  {
   "cell_type": "code",
   "execution_count": null,
   "metadata": {},
   "outputs": [],
   "source": [
    "bar_chart_count(raw['gear_id'])"
   ]
  },
  {
   "cell_type": "code",
   "execution_count": null,
   "metadata": {},
   "outputs": [],
   "source": [
    "def bar_chart_sum(cat_col, num_col, sort_by_values=True):\n",
    "\n",
    "    agged = num_col.groupby(cat_col).sum().sort_values(ascending=False)\n",
    "    if sort_by_values == False:\n",
    "        agged = agged.sort_index()\n",
    "    x = agged.index.astype('string').to_list()\n",
    "    y = agged.to_list()\n",
    "    c = get_colours(len(x)) [:len(x)]\n",
    "    title = num_col.name[0].upper()+num_col.name[1:]+ ' by ' + cat_col.name[0].upper()+cat_col.name[1:]\n",
    "\n",
    "    p = figure(x_range = x, title=title, background_fill_color='whitesmoke', height=300)\n",
    "    p.vbar(x=x, top=y, width=.9, fill_color=c, line_color='white', line_width=3, line_join='round')\n",
    "\n",
    "    p.y_range.start = 0\n",
    "    p.y_range.end = max(y) * 1.05\n",
    "    p.xgrid.grid_line_color=None\n",
    "    p.xaxis.major_label_orientation = .8\n",
    "    p.yaxis.minor_tick_line_color = None\n",
    "\n",
    "    show(p)\n",
    "\n",
    "bar_chart_sum(raw['gear_id'], raw['distance'] / 1000)"
   ]
  },
  {
   "cell_type": "code",
   "execution_count": null,
   "metadata": {},
   "outputs": [],
   "source": [
    "bar_chart_sum(raw['start_date_local'].astype('datetime64[ns]').dt.year, raw['distance'] / 1000, sort_by_values=False)"
   ]
  },
  {
   "cell_type": "code",
   "execution_count": null,
   "metadata": {},
   "outputs": [],
   "source": [
    "def stacked_bar_chart(bar_col, legend_col):\n",
    "\n",
    "    agged = bar_col.groupby([legend_col, bar_col]).count().unstack().fillna(0)\n",
    "    bars = agged.index.to_list()\n",
    "    legends = agged.columns.to_list()\n",
    "    c = get_colours(len(legends))\n",
    "\n",
    "\n",
    "    data = {l:agged[l].to_list() for l in legends}\n",
    "\n",
    "    c = get_colours(len(agged.columns))\n",
    "    title = 'Activities by '+bar_col.name[0].upper() + bar_col.name[1:] + ' and ' + legend_col.name[0].upper() + legend_col.name[1:]\n",
    "\n",
    "    p = figure(x_range=bars, title=title, background_fill_color='whitesmoke', height=300)\n",
    "    bottom = [0 for x in bars]\n",
    "    for i, l in enumerate(legends):\n",
    "        top = [x+y for x, y in zip(bottom, data[l])]\n",
    "        p.vbar(x=bars, bottom=bottom, top=top, width=.9, color=c[i], line_color='white', line_width=1, line_join='round', legend_label=l)\n",
    "        bottom = top\n",
    "\n",
    "    p.y_range.start = 0\n",
    "    p.y_range.end = max(agged.sum(axis=1)) * 1.05\n",
    "    p.xgrid.grid_line_color=None\n",
    "    p.xaxis.major_label_orientation = .8\n",
    "    p.yaxis.minor_tick_line_color = None\n",
    "    p.legend.location = 'top_left'\n",
    "\n",
    "    show(p)\n",
    "\n",
    "stacked_bar_chart(raw['gear_id'], raw['start_date_local'].astype('datetime64[ns]').dt.year.astype('string'))"
   ]
  },
  {
   "cell_type": "code",
   "execution_count": null,
   "metadata": {},
   "outputs": [],
   "source": [
    "def stacked_bar_chart_sum(bar_col, legend_col, num_col):\n",
    "\n",
    "    agged = num_col.groupby([legend_col, bar_col]).sum().unstack().fillna(0)\n",
    "    bars = agged.index.to_list()\n",
    "    legends = agged.columns.to_list()\n",
    "    c = get_colours(len(legends))\n",
    "\n",
    "\n",
    "    data = {l:agged[l].to_list() for l in legends}\n",
    "\n",
    "    c = get_colours(len(agged.columns))\n",
    "    title = num_col.name[0].upper() + num_col.name[1:] + ' by '+bar_col.name[0].upper() + bar_col.name[1:] + ' and ' + legend_col.name[0].upper() + legend_col.name[1:]\n",
    "\n",
    "    p = figure(x_range=bars, title=title, background_fill_color='whitesmoke', height=400)\n",
    "    bottom = [0 for x in bars]\n",
    "    for i, l in enumerate(legends):\n",
    "        top = [x+y for x, y in zip(bottom, data[l])]\n",
    "        p.vbar(x=bars, bottom=bottom, top=top, width=.9, color=c[i], line_color='white', line_width=1, line_join='round', legend_label=l)\n",
    "        bottom = top\n",
    "\n",
    "    p.y_range.start = 0\n",
    "    p.y_range.end = max(agged.sum(axis=1)) * 1.2\n",
    "    p.xgrid.grid_line_color=None\n",
    "    p.xaxis.major_label_orientation = .8\n",
    "    p.yaxis.minor_tick_line_color = None\n",
    "    p.legend.location = 'top_left'\n",
    "    p.legend.label_text_font_size = '8pt'\n",
    "\n",
    "    show(p)\n",
    "\n",
    "stacked_bar_chart_sum(raw['gear_id'], raw['start_date_local'].astype('datetime64[ns]').dt.year.astype('string'), raw['distance'] / 1000)"
   ]
  },
  {
   "cell_type": "code",
   "execution_count": null,
   "metadata": {},
   "outputs": [],
   "source": [
    "stacked_bar_chart_sum(raw['gear_id'], raw['start_date_local'].astype('datetime64[ns]').dt.year.astype('string'), raw['moving_time'] / 3600)"
   ]
  },
  {
   "cell_type": "code",
   "execution_count": null,
   "metadata": {},
   "outputs": [],
   "source": [
    "stacked_bar_chart_sum(raw['gear_id'], raw['start_date_local'].astype('datetime64[ns]').dt.year.astype('string'), raw['total_elevation_gain'])"
   ]
  },
  {
   "cell_type": "code",
   "execution_count": null,
   "metadata": {},
   "outputs": [],
   "source": [
    "stacked_bar_chart_sum(raw['gear_id'], raw['start_date_local'].astype('datetime64[ns]').dt.year.astype('string'), raw['kudos_count'])"
   ]
  },
  {
   "cell_type": "code",
   "execution_count": null,
   "metadata": {},
   "outputs": [],
   "source": [
    "stacked_bar_chart_sum(raw['type'], raw['start_date_local'].astype('datetime64[ns]').dt.year.astype('string'), raw['moving_time'] / 60 / 60)"
   ]
  },
  {
   "cell_type": "code",
   "execution_count": null,
   "metadata": {},
   "outputs": [],
   "source": []
  }
 ],
 "metadata": {
  "kernelspec": {
   "display_name": "Python 3",
   "language": "python",
   "name": "python3"
  },
  "language_info": {
   "codemirror_mode": {
    "name": "ipython",
    "version": 3
   },
   "file_extension": ".py",
   "mimetype": "text/x-python",
   "name": "python",
   "nbconvert_exporter": "python",
   "pygments_lexer": "ipython3",
   "version": "3.9.6"
  },
  "orig_nbformat": 4
 },
 "nbformat": 4,
 "nbformat_minor": 2
}
